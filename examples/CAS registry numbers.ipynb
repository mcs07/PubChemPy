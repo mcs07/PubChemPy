{
 "cells": [
  {
   "cell_type": "markdown",
   "metadata": {},
   "source": [
    "# Retrieving CAS registry numbers\n",
    "\n",
    "CAS Registry numbers are not officially supported as compound metadata or a property type in PubChem. However, in many instances, CAS registry numbers are present in the collection of name synonyms associated with a compound. Therefore it is straightforward to retrieve them by getting compound synonyms and then filtering these to just those with the CAS registry number format."
   ]
  },
  {
   "cell_type": "code",
   "execution_count": null,
   "metadata": {},
   "outputs": [],
   "source": [
    "import re\n",
    "import time\n",
    "\n",
    "import pubchempy as pcp"
   ]
  },
  {
   "cell_type": "code",
   "execution_count": null,
   "metadata": {},
   "outputs": [],
   "source": [
    "# Optionally enable debug logging to make it easier to see what is going on:\n",
    "# logging.basicConfig(level=logging.DEBUG)"
   ]
  },
  {
   "cell_type": "markdown",
   "metadata": {},
   "source": [
    "A function to get CAS registry numbers by filtering a list of compound synonyms:"
   ]
  },
  {
   "cell_type": "code",
   "execution_count": null,
   "metadata": {},
   "outputs": [],
   "source": [
    "def filter_cas_rns(synonyms: list[str]) -> list[str]:\n",
    "    \"\"\"Filter a list of synonyms to just those that look like CAS registry numbers.\"\"\"\n",
    "    cas_rns = []\n",
    "    for syn in synonyms:\n",
    "        match = re.match(r\"(\\d{2,7}-\\d\\d-\\d)\", syn)\n",
    "        if match:\n",
    "            cas_rns.append(match.group(1))\n",
    "    return cas_rns"
   ]
  },
  {
   "cell_type": "markdown",
   "metadata": {},
   "source": [
    "## CAS Registry Numbers for a given PubChem CID"
   ]
  },
  {
   "cell_type": "code",
   "execution_count": null,
   "metadata": {},
   "outputs": [
    {
     "name": "stdout",
     "output_type": "stream",
     "text": [
      "CAS registry numbers for CID 2242: ['25548-16-7']\n"
     ]
    }
   ],
   "source": [
    "for result in pcp.get_synonyms(2242):\n",
    "    cid = result[\"CID\"]\n",
    "    cas_rns = filter_cas_rns(result.get(\"Synonym\", []))\n",
    "    print(f\"CAS registry numbers for CID {cid}: {cas_rns}\")"
   ]
  },
  {
   "cell_type": "markdown",
   "metadata": {},
   "source": [
    "## CAS Registry Numbers for a batch of PubChem CIDs"
   ]
  },
  {
   "cell_type": "code",
   "execution_count": null,
   "metadata": {},
   "outputs": [
    {
     "name": "stdout",
     "output_type": "stream",
     "text": [
      "CAS registry numbers for CID 2242: ['25548-16-7']\n",
      "CAS registry numbers for CID 134601: ['22839-47-0', '53906-69-7', '7421-84-3']\n",
      "CAS registry numbers for CID 6992065: ['22839-65-2']\n"
     ]
    }
   ],
   "source": [
    "for result in pcp.get_synonyms([2242, 134601, 6992065]):\n",
    "    cid = result[\"CID\"]\n",
    "    cas_rns = filter_cas_rns(result.get(\"Synonym\", []))\n",
    "    print(f\"CAS registry numbers for CID {cid}: {cas_rns}\")"
   ]
  },
  {
   "cell_type": "markdown",
   "metadata": {},
   "source": [
    "## CAS Registry Numbers for a PubChemPy Compound object"
   ]
  },
  {
   "cell_type": "code",
   "execution_count": null,
   "metadata": {},
   "outputs": [
    {
     "name": "stdout",
     "output_type": "stream",
     "text": [
      "CAS registry numbers for CID 2242: ['25548-16-7']\n"
     ]
    }
   ],
   "source": [
    "compound = pcp.Compound.from_cid(2242)\n",
    "cas_rns = filter_cas_rns(compound.synonyms)\n",
    "print(f\"CAS registry numbers for CID 2242: {cas_rns}\")"
   ]
  },
  {
   "cell_type": "markdown",
   "metadata": {},
   "source": [
    "## CAS Registry Numbers for substructure search results"
   ]
  },
  {
   "cell_type": "code",
   "execution_count": null,
   "metadata": {},
   "outputs": [
    {
     "name": "stdout",
     "output_type": "stream",
     "text": [
      "CAS registry numbers for CID 134601: ['22839-47-0', '53906-69-7', '7421-84-3']\n",
      "CAS registry numbers for CID 9810996: ['165450-17-9']\n",
      "CAS registry numbers for CID 2242: ['25548-16-7']\n",
      "CAS registry numbers for CID 6992066: []\n",
      "CAS registry numbers for CID 56843846: ['714229-20-6', '245650-17-3']\n",
      "CAS registry numbers for CID 3804937: []\n",
      "CAS registry numbers for CID 25130065: ['106372-55-8']\n",
      "CAS registry numbers for CID 6992065: ['22839-65-2']\n",
      "CAS registry numbers for CID 14060789: []\n",
      "CAS registry numbers for CID 44364601: []\n"
     ]
    }
   ],
   "source": [
    "count = 0\n",
    "for result in pcp.get_synonyms(\n",
    "    \"COC(=O)C(CC1=CC=CC=C1)NC(=O)C(CC(=O)O)N\", \"smiles\", searchtype=\"substructure\"\n",
    "):\n",
    "    cid = result[\"CID\"]\n",
    "    cas_rns = filter_cas_rns(result.get(\"Synonym\", []))\n",
    "    print(f\"CAS registry numbers for CID {cid}: {cas_rns}\")\n",
    "    count += 1\n",
    "    if count >= 10:\n",
    "        break"
   ]
  },
  {
   "cell_type": "markdown",
   "metadata": {},
   "source": [
    "We could potentially get a TimeoutError if there are too many results. In this case, it might be better to perform the substructure search and then get the synonyms individually for each result or in batches:"
   ]
  },
  {
   "cell_type": "code",
   "execution_count": null,
   "metadata": {},
   "outputs": [
    {
     "name": "stdout",
     "output_type": "stream",
     "text": [
      "Getting synonyms for batch: [24290, 23938, 5702536, 62732, 167845]\n",
      "CAS registry numbers for CID 24290: ['7647-10-1']\n",
      "CAS registry numbers for CID 23938: ['7440-05-3', '7440-05-3', '7440-05-3']\n",
      "CAS registry numbers for CID 5702536: ['12107-56-1', '12193-11-2']\n",
      "CAS registry numbers for CID 62732: ['19168-23-1', '13820-55-8']\n",
      "CAS registry numbers for CID 167845: ['3375-31-3', '19807-27-3']\n",
      "Getting synonyms for batch: [11979704, 9811564, 74855, 24932, 61732]\n",
      "CAS registry numbers for CID 11979704: ['14221-01-3']\n",
      "CAS registry numbers for CID 9811564: ['51364-51-3', '60748-47-2']\n",
      "CAS registry numbers for CID 74855: ['2035-66-7']\n",
      "CAS registry numbers for CID 24932: ['10102-05-3']\n",
      "CAS registry numbers for CID 61732: ['14323-43-4', '13782-33-7']\n",
      "Getting synonyms for batch: [73974, 161205, 424947, 153931, 166846]\n",
      "CAS registry numbers for CID 73974: ['11113-77-2']\n",
      "CAS registry numbers for CID 161205: ['16970-55-1']\n",
      "CAS registry numbers for CID 424947: ['7790-38-7', '90-38-7']\n",
      "CAS registry numbers for CID 153931: ['134620-00-1']\n",
      "CAS registry numbers for CID 166846: ['13566-03-5', '22723-63-3']\n",
      "Getting synonyms for batch: [5486778, 53384484, 171041442, 517722, 3035388]\n",
      "CAS registry numbers for CID 5486778: ['14024-61-4']\n",
      "CAS registry numbers for CID 53384484: ['14024-61-4']\n",
      "CAS registry numbers for CID 171041442: ['759457-82-4', '886845-72-3']\n",
      "CAS registry numbers for CID 517722: ['14024-61-4']\n",
      "CAS registry numbers for CID 3035388: ['14024-61-4']\n",
      "Getting synonyms for batch: [6102075, 61538, 168754, 5462715, 50930385]\n",
      "CAS registry numbers for CID 6102075: ['13965-03-2']\n",
      "CAS registry numbers for CID 61538: ['12012-95-2']\n",
      "CAS registry numbers for CID 168754: ['14852-83-6', '14409-60-0', '14708-52-2', '28068-05-5', '14286-03-4']\n",
      "CAS registry numbers for CID 5462715: ['24-61-4', '14024-61-4']\n",
      "CAS registry numbers for CID 50930385: ['14024-61-4']\n"
     ]
    }
   ],
   "source": [
    "cids = pcp.get_cids(\"[Pd]\", \"smiles\", searchtype=\"substructure\")\n",
    "batch_size = 5\n",
    "for i in range(0, len(cids), batch_size):\n",
    "    batch = cids[i : i + batch_size]\n",
    "    print(f\"Getting synonyms for batch: {batch}\")\n",
    "    results = pcp.get_synonyms(batch)\n",
    "    for result in results:\n",
    "        cid = result[\"CID\"]\n",
    "        cas_rns = filter_cas_rns(result.get(\"Synonym\", []))\n",
    "        print(f\"CAS registry numbers for CID {cid}: {cas_rns}\")\n",
    "    time.sleep(1)  # Respect PubChem's rate limits\n",
    "    if i >= 20:\n",
    "        break"
   ]
  }
 ],
 "metadata": {},
 "nbformat": 4,
 "nbformat_minor": 4
}
