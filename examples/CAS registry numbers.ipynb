{
 "cells": [
  {
   "cell_type": "markdown",
   "metadata": {},
   "source": [
    "# Retrieving CAS registry numbers"
   ]
  },
  {
   "cell_type": "code",
   "execution_count": 1,
   "metadata": {},
   "outputs": [],
   "source": [
    "import re\n",
    "import pubchempy as pcp"
   ]
  },
  {
   "cell_type": "markdown",
   "metadata": {},
   "source": [
    "Enable debug logging to make it easier to see what is going on:"
   ]
  },
  {
   "cell_type": "code",
   "execution_count": 2,
   "metadata": {},
   "outputs": [],
   "source": [
    "import logging\n",
    "\n",
    "logging.getLogger('pubchempy').setLevel(logging.DEBUG)"
   ]
  },
  {
   "cell_type": "markdown",
   "metadata": {},
   "source": [
    "A function to get the CAS registry numbers for compounds with a particular SMILES substructure:"
   ]
  },
  {
   "cell_type": "code",
   "execution_count": 3,
   "metadata": {},
   "outputs": [],
   "source": [
    "def get_substructure_cas(smiles):\n",
    "    cas_rns = []\n",
    "    results = pcp.get_synonyms(smiles, 'smiles', searchtype='substructure')\n",
    "    for result in results:\n",
    "        for syn in result.get('Synonym', []):\n",
    "            match = re.match('(\\d{2,7}-\\d\\d-\\d)', syn)\n",
    "            if match:\n",
    "                cas_rns.append(match.group(1))\n",
    "    return cas_rns"
   ]
  },
  {
   "cell_type": "markdown",
   "metadata": {},
   "source": [
    "Test some inputs:"
   ]
  },
  {
   "cell_type": "code",
   "execution_count": 4,
   "metadata": {},
   "outputs": [
    {
     "name": "stdout",
     "output_type": "stream",
     "text": [
      "856\n",
      "['7439-92-1', '54076-28-7', '14452-81-4', '1317-36-8', '79120-33-5', '78-00-2', '10099-74-8', '301-04-2', '1314-87-0', '12179-39-4']\n"
     ]
    }
   ],
   "source": [
    "cas_rns = get_substructure_cas('[Pb]')\n",
    "print(len(cas_rns))\n",
    "print(cas_rns[:10])"
   ]
  },
  {
   "cell_type": "code",
   "execution_count": 5,
   "metadata": {},
   "outputs": [
    {
     "name": "stdout",
     "output_type": "stream",
     "text": [
      "3672\n",
      "['7783-00-8', '10102-18-8', '10102-18-8', '14013-56-0', '1464-42-2', '2578-28-1', '7782-49-2', '630-10-4', '60940-34-3', '7446-08-4']\n"
     ]
    }
   ],
   "source": [
    "cas_rns = get_substructure_cas('[Se]')\n",
    "print(len(cas_rns))\n",
    "print(cas_rns[:10])"
   ]
  },
  {
   "cell_type": "code",
   "execution_count": 6,
   "metadata": {},
   "outputs": [
    {
     "name": "stdout",
     "output_type": "stream",
     "text": [
      "875\n",
      "['13463-67-7', '1317-70-0', '1317-80-2', '98084-96-9', '7440-32-6', '14067-04-0', '546-68-9', '68585-67-1', '1271-19-8', '12035-95-9']\n"
     ]
    }
   ],
   "source": [
    "cas_rns = get_substructure_cas('[Ti]')\n",
    "print(len(cas_rns))\n",
    "print(cas_rns[:10])"
   ]
  },
  {
   "cell_type": "code",
   "execution_count": 7,
   "metadata": {},
   "outputs": [
    {
     "name": "stdout",
     "output_type": "stream",
     "text": [
      "846\n",
      "['7647-10-1', '7440-05-3', '19168-23-1', '10025-98-6', '13782-33-7', '14323-43-4', '16919-73-6', '12125-22-3', '3375-31-3', '19807-27-3']\n"
     ]
    }
   ],
   "source": [
    "cas_rns = get_substructure_cas('[Pd]')\n",
    "print(len(cas_rns))\n",
    "print(cas_rns[:10])"
   ]
  },
  {
   "cell_type": "markdown",
   "metadata": {},
   "source": [
    "We could potentially get a TimeoutError if there are too many results. In this case, it might be better to perform the substructure search and then get the synonyms separately:"
   ]
  },
  {
   "cell_type": "code",
   "execution_count": 8,
   "metadata": {},
   "outputs": [],
   "source": [
    "cids = pcp.get_cids('[Pd]', 'smiles', searchtype='substructure')"
   ]
  },
  {
   "cell_type": "markdown",
   "metadata": {},
   "source": [
    "Then you can do `pcp.get_synonyms(cids)` with the list of CIDs."
   ]
  }
 ],
 "metadata": {
  "kernelspec": {
   "display_name": "Python 3 (ipykernel)",
   "language": "python",
   "name": "python3"
  },
  "language_info": {
   "codemirror_mode": {
    "name": "ipython",
    "version": 3
   },
   "file_extension": ".py",
   "mimetype": "text/x-python",
   "name": "python",
   "nbconvert_exporter": "python",
   "pygments_lexer": "ipython3",
   "version": "3.9.9"
  }
 },
 "nbformat": 4,
 "nbformat_minor": 1
}
