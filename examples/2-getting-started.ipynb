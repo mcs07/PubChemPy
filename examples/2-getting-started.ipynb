{
 "cells": [
  {
   "cell_type": "markdown",
   "metadata": {},
   "source": [
    "# PubChemPy examples\n",
    "\n",
    "## Table of Contents\n",
    "\n",
    "- [1. Introduction](1-introduction.ipynb)\n",
    "- [2. Getting Started](2-getting-started.ipynb)\n",
    "\n",
    "# 2. Getting Started\n",
    "\n",
    "## Retrieving a Compound\n",
    "\n",
    "Retrieving information about a specific Compound in the PubChem database is simple.\n",
    "\n",
    "Begin by importing PubChemPy:"
   ]
  },
  {
   "cell_type": "code",
   "execution_count": 1,
   "metadata": {},
   "outputs": [],
   "source": [
    "import pubchempy as pcp"
   ]
  },
  {
   "cell_type": "markdown",
   "metadata": {},
   "source": [
    "Let’s get the Compound with [CID 5090](https://pubchem.ncbi.nlm.nih.gov/summary/summary.cgi?cid=5090):"
   ]
  },
  {
   "cell_type": "code",
   "execution_count": 2,
   "metadata": {},
   "outputs": [
    {
     "data": {
      "text/plain": [
       "Compound(5090)"
      ]
     },
     "execution_count": 2,
     "metadata": {},
     "output_type": "execute_result"
    }
   ],
   "source": [
    "c = pcp.Compound.from_cid(5090)\n",
    "c"
   ]
  },
  {
   "cell_type": "markdown",
   "metadata": {},
   "source": [
    "Now we have a `Compound` object called `c`. We can get all the information we need from this object:"
   ]
  },
  {
   "cell_type": "code",
   "execution_count": 3,
   "metadata": {},
   "outputs": [
    {
     "name": "stdout",
     "output_type": "stream",
     "text": [
      "C17H14O4S\n"
     ]
    }
   ],
   "source": [
    "print(c.molecular_formula)"
   ]
  },
  {
   "cell_type": "code",
   "execution_count": 4,
   "metadata": {},
   "outputs": [
    {
     "name": "stdout",
     "output_type": "stream",
     "text": [
      "314.4\n"
     ]
    }
   ],
   "source": [
    "print(c.molecular_weight)"
   ]
  },
  {
   "cell_type": "code",
   "execution_count": 5,
   "metadata": {},
   "outputs": [
    {
     "name": "stdout",
     "output_type": "stream",
     "text": [
      "CS(=O)(=O)C1=CC=C(C=C1)C2=C(C(=O)OC2)C3=CC=CC=C3\n"
     ]
    }
   ],
   "source": [
    "print(c.smiles)"
   ]
  },
  {
   "cell_type": "code",
   "execution_count": 6,
   "metadata": {},
   "outputs": [
    {
     "name": "stdout",
     "output_type": "stream",
     "text": [
      "2.3\n"
     ]
    }
   ],
   "source": [
    "print(c.xlogp)"
   ]
  },
  {
   "cell_type": "code",
   "execution_count": 7,
   "metadata": {},
   "outputs": [
    {
     "name": "stdout",
     "output_type": "stream",
     "text": [
      "3-(4-methylsulfonylphenyl)-4-phenyl-2H-furan-5-one\n"
     ]
    }
   ],
   "source": [
    "print(c.iupac_name)"
   ]
  },
  {
   "cell_type": "code",
   "execution_count": 8,
   "metadata": {},
   "outputs": [
    {
     "name": "stdout",
     "output_type": "stream",
     "text": [
      "['rofecoxib', '162011-90-7', 'Vioxx', 'Ceoxx', 'MK 966', '4-(4-(Methylsulfonyl)phenyl)-3-phenylfuran-2(5H)-one', 'Vioxx Dolor', 'MK-966', '4-[4-(methylsulfonyl)phenyl]-3-phenyl-2(5H)-furanone', '4-[4-(methylsulfonyl)phenyl]-3-phenylfuran-2(5H)-one', 'MK0966', 'MK-0966', 'rofecoxibum', 'TRM-201', '0QTW8Z7MCR', 'NSC-720256', 'NSC-758705', 'CHEBI:8887', 'TRM201', 'DTXSID2023567', 'M01AH02', '3-phenyl-4-[4-(methylsulfonyl)phenyl]-2(5H)-furanone', '4-(4-(Methylsulfonyl)phenyl)-3-phenyl-2(5H)-furanone', '4-(4-methylsulfonylphenyl)-3-phenyl-5H-furan-2-one', 'DTXCID903567', 'NSC720256', '3-phenyl-4-(4-(methylsulfonyl)phenyl)-2(5H)-furanone', \"4-(4'-(Methylsulfonyl)phenyl)-3-phenyl-2(5H)-furanone\", '803-260-0', 'MK 0966', '3-(4-methylsulfonylphenyl)-4-phenyl-2H-furan-5-one', '2(5H)-Furanone, 4-[4-(methylsulfonyl)phenyl]-3-phenyl-', 'MK966', '4-(4-methanesulfonylphenyl)-3-phenyl-2,5-dihydrofuran-2-one', 'MFCD00935806', 'CHEMBL122', '4-(p-(Methylsulfonyl)phenyl)-3-phenyl-2(5H)-furanone', 'refecoxib', 'NCGC00095118-01', 'Vioxx-d5 (Major)', '2(5H)-Furanone, 4-(4-(methylsulfonyl)phenyl)-3-phenyl-', 'C17H14O4S', 'Vioxx (trademark)', 'SMR000466331', 'CCRIS 8967', 'Vioxx (TN)', 'HSDB 7262', 'SR-01000762904', 'UNII-0QTW8Z7MCR', 'Rofecoxib (JAN/USAN/INN)', 'Rofecoxib [USAN:INN:BAN]', '3-Phenyl-4-(4-(methylsulfonyl)phenyl))-2(5H)-furanone', 'Rofecoxib (Vioxx)', 'Rofecoxib [USAN]', 'Rofecoxib (Standard)', 'KS-1107', 'MK 0996', 'Spectrum_000119', 'ROFECOXIB [INN]', 'ROFECOXIB [JAN]', 'SpecPlus_000669', 'ROFECOXIB [MI]', 'ROFECOXIB [HSDB]', 'Spectrum2_000446', 'Spectrum3_001153', 'Spectrum4_000631', 'Spectrum5_001598', 'ROFECOXIB [VANDF]', 'ROFECOXIB [MART.]', 'ROFECOXIB [WHO-DD]', 'SCHEMBL3050', 'BSPBio_002705', 'KBioGR_001242', 'KBioGR_002345', 'KBioSS_000559', 'KBioSS_002348', 'MLS000759440', 'MLS001165770', 'MLS001195623', 'MLS001424113', 'MLS006010091', 'BIDD:GT0399', 'DivK1c_006765', 'SPECTRUM1504235', 'Rofecoxib - Bio-X trade mark', 'SPBio_000492', '3-(4-methanesulfonylphenyl)-2-phenyl-2-buten-4-olide', 'GTPL2893', 'orb1309482', 'ROFECOXIB [ORANGE BOOK]', 'BDBM22369', 'KBio1_001709', 'KBio2_000559', 'KBio2_002345', 'KBio2_003127', 'KBio2_004913', 'KBio2_005695', 'KBio2_007481', 'KBio3_002205', 'KBio3_002825', 'EX-A708', 'cMAP_000024', 'GLXC-05865', 'HMS1922H11', 'HMS2051G16', 'HMS2089H20', 'HMS2093E04', 'HMS2232G21', 'HMS3371P11', 'HMS3393G16', 'HMS3651F16', 'HMS3713B07', 'HMS3750I17', 'HMS3885E05', 'HMS5081K08', 'Pharmakon1600-01504235', 'BCP03619', 'MSK10084', 'UWA68493', 'Tox21_111430', 'CCG-40253', 'HY-17372R', 'NSC758705', 's3043', 'STK635144', 'AKOS000280931', 'AB07701', 'CS-0997', 'DB00533', 'FV28711', 'NC00132', 'NSC 720256', 'NSC 758705', 'SB19518', 'NCGC00095118-02', 'NCGC00095118-03', 'NCGC00095118-04', 'NCGC00095118-05', 'NCGC00095118-08', 'NCGC00095118-17', 'NCGC00095118-18', 'AC-28318', 'BR164362', 'HY-17372', 'NCI60_041175', 'SBI-0206774.P001', 'CAS-162011-90-7', 'NS00003940', 'R0206', 'SW219668-1', 'C07590', 'D00568', 'AB00052090-06', 'AB00052090-08', 'AB00052090_09', 'AB00052090_10', 'EN300-7364304', 'L000912', 'Q411412', 'SR-01000762904-3', 'SR-01000762904-5', 'BRD-K21733600-001-02-6', 'BRD-K21733600-001-06-7', 'BRD-K21733600-001-14-1', 'BRD-K21733600-001-15-8', 'BRD-K21733600-001-19-0', 'BRD-K21733600-001-23-2', 'BRD-K21733600-001-24-0', '3-(4-methanesulfonyl-phenyl)-2-phenyl-2-buten-4-olide', 'Z2037279770', '2(5H)-Furanone, 4-[4-(methyl-sulfonyl)phenyl]-3-phenyl-', '3-(Phenyl)-4-(4-(methylsulfonyl)phenyl)-2-(5H)-furanone', '3-Phenyl-4-(4-(Methylsulfonyl)Phenyl)-2-(5H)-Furanone', '4-(4-METHANESULFONYL-PHENYL)-3-PHENYL-5H-FURAN-2-ONE', '4-(4-methylsulfonylphenyl)-3-phenyl-2,5-dihydro-2-furanone', '4-4-(Methylsulfonyl)phenyl-3-phenyl-2(5H)-furanone;Rofecoxib']\n"
     ]
    }
   ],
   "source": [
    "print(c.synonyms)"
   ]
  },
  {
   "cell_type": "markdown",
   "metadata": {},
   "source": [
    "## Searching\n",
    "\n",
    "What if you don’t know the PubChem CID of the Compound you want? Just use the `get_compounds()` function:"
   ]
  },
  {
   "cell_type": "code",
   "execution_count": 37,
   "metadata": {},
   "outputs": [
    {
     "data": {
      "text/plain": [
       "[Compound(16051935)]"
      ]
     },
     "execution_count": 37,
     "metadata": {},
     "output_type": "execute_result"
    }
   ],
   "source": [
    "results = pcp.get_compounds('Morphine sulfate', 'name')\n",
    "results"
   ]
  },
  {
   "cell_type": "markdown",
   "metadata": {},
   "source": [
    "The first argument is the identifier, and the second argument is the identifier type, which must be one of name, smiles, sdf, inchi, inchikey or formula. It looks like there are 4 compounds in the PubChem Database that have the name Glucose associated with them. Let’s take a look at them in more detail:"
   ]
  },
  {
   "cell_type": "code",
   "execution_count": 11,
   "metadata": {},
   "outputs": [
    {
     "name": "stdout",
     "output_type": "stream",
     "text": [
      "C([C@@H]1[C@H]([C@@H]([C@H](C(O1)O)O)O)O)O\n"
     ]
    }
   ],
   "source": [
    "for compound in results:\n",
    "    print(compound.smiles)"
   ]
  },
  {
   "cell_type": "markdown",
   "metadata": {},
   "source": [
    "It looks like they all have different stereochemistry information.\n",
    "\n",
    "Retrieving the record for a SMILES string is just as easy:"
   ]
  },
  {
   "cell_type": "code",
   "execution_count": null,
   "metadata": {},
   "outputs": [],
   "source": [
    "pcp.get_compounds('C1=CC2=C(C3=C(C=CC=N3)C=C2)N=C1', 'smiles')"
   ]
  },
  {
   "cell_type": "markdown",
   "metadata": {},
   "source": [
    "It's worth being aware that line notation inputs like SMILES and InChI can return automatically generated records that aren’t actually present in PubChem, and therefore have no CID and are missing many properties that are too complicated to calculate on the fly."
   ]
  },
  {
   "cell_type": "markdown",
   "metadata": {},
   "source": [
    "---\n",
    "Previous: [Introduction](1-introduction.ipynb)"
   ]
  }
 ],
 "metadata": {
  "kernelspec": {
   "display_name": "pubchempy (3.12.11)",
   "language": "python",
   "name": "python3"
  },
  "language_info": {
   "codemirror_mode": {
    "name": "ipython",
    "version": 3
   },
   "file_extension": ".py",
   "mimetype": "text/x-python",
   "name": "python",
   "nbconvert_exporter": "python",
   "pygments_lexer": "ipython3",
   "version": "3.12.11"
  }
 },
 "nbformat": 4,
 "nbformat_minor": 1
}
